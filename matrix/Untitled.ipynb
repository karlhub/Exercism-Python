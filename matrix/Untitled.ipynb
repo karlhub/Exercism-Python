{
 "cells": [
  {
   "cell_type": "code",
   "execution_count": 5,
   "metadata": {},
   "outputs": [
    {
     "name": "stdout",
     "output_type": "stream",
     "text": [
      "Input Matrix String: 89 1903 3\\n18 3 1\\n9 4 800\n",
      "Matrix:  [[89, 1903, 3], [18, 3, 1], [9, 4, 800]]\n",
      "Row: 2\n",
      "[18, 3, 1]\n",
      "Column: 2\n",
      "[1903, 3, 4]\n",
      "=> End of program\n"
     ]
    }
   ],
   "source": [
    "class Matrix:\n",
    "    def __init__(self, matrix_string):\n",
    "        self.matrix = [[int(c) for c in r.split()] for r in matrix_string.split('\\\\n')]\n",
    "\n",
    "    def row(self, index):\n",
    "        return (self.matrix[index-1])\n",
    "\n",
    "    def column(self, index):\n",
    "        return ([r[index-1] for r in self.matrix])\n",
    "\n",
    "# Program tester\n",
    "matStr = input (\"Input Matrix String: \")\n",
    "matr = Matrix(matStr)\n",
    "print (\"Matrix: \", matr.matrix)\n",
    "\n",
    "rowMatr = int (input (\"Row: \"))\n",
    "print (matr.row (rowMatr))\n",
    "\n",
    "colMatr = int (input (\"Column: \"))\n",
    "print (matr.column (colMatr))\n",
    "\n",
    "print (\"=> End of program\")"
   ]
  },
  {
   "cell_type": "code",
   "execution_count": null,
   "metadata": {},
   "outputs": [],
   "source": []
  },
  {
   "cell_type": "code",
   "execution_count": null,
   "metadata": {},
   "outputs": [],
   "source": []
  }
 ],
 "metadata": {
  "kernelspec": {
   "display_name": "Python 3",
   "language": "python",
   "name": "python3"
  },
  "language_info": {
   "codemirror_mode": {
    "name": "ipython",
    "version": 3
   },
   "file_extension": ".py",
   "mimetype": "text/x-python",
   "name": "python",
   "nbconvert_exporter": "python",
   "pygments_lexer": "ipython3",
   "version": "3.7.4"
  }
 },
 "nbformat": 4,
 "nbformat_minor": 2
}
