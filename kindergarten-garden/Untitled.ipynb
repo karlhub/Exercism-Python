{
 "cells": [
  {
   "cell_type": "code",
   "execution_count": 1,
   "metadata": {},
   "outputs": [
    {
     "name": "stdout",
     "output_type": "stream",
     "text": [
      "Diagram: RC\\nGG\n",
      "Student: done\n",
      "[]\n",
      "Garden:  [['RC', 'GG'], ['Alice', 'Bob', 'Charlie', 'David', 'Eve', 'Fred', 'Ginny', 'Harriet', 'Ileana', 'Joseph', 'Kincaid', 'Larry']]\n",
      "Student to search: Alice\n",
      "['Radishes', 'Clover', 'Grass', 'Grass']\n",
      "Student to search: done\n",
      "=> End of program\n"
     ]
    }
   ],
   "source": [
    "class Garden:\n",
    "    def __init__(self, diagram, students=[]):\n",
    "        list_students = [\"Alice\",\"Bob\",\"Charlie\",\"David\",\"Eve\",\"Fred\",\"Ginny\",\"Harriet\",\"Ileana\",\"Joseph\",\"Kincaid\",\"Larry\"]\n",
    "        windows = diagram.split(\"\\\\n\")\n",
    "        if students == []:\n",
    "            students = list_students\n",
    "        students.sort()\n",
    "        self.garden = [windows, students]\n",
    "\n",
    "    def plants (self, student):\n",
    "        dict_plants = {\"C\":\"Clover\",\"G\":\"Grass\",\"R\":\"Radishes\",\"V\":\"Violets\"}\n",
    "        ind = self.garden[1].index(student)\n",
    "        list_plants = [self.garden[0][0][ind*2],self.garden[0][0][ind*2+1],self.garden[0][1][ind*2],self.garden[0][1][ind*2+1]]\n",
    "        list_plants_names = []\n",
    "        for p in list_plants:\n",
    "            list_plants_names.append(dict_plants.get(p))\n",
    "        return (list_plants_names)\n",
    "\n",
    "# Program tester\n",
    "list_diagram = \"VRCGVVRVCGGCCGVRGCVCGCGV\\nVRCCCGCRRGVCGCRVVCVGCGCV\"\n",
    "list_diagram = input (\"Diagram: \")\n",
    "list_students = []\n",
    "while True:\n",
    "    student = input (\"Student: \")\n",
    "    if student == \"done\":\n",
    "        break\n",
    "    list_students.append(student)\n",
    "print (list_students)\n",
    "grd = Garden(list_diagram, list_students)\n",
    "print (\"Garden: \", grd.garden)\n",
    "\n",
    "while True:\n",
    "    student = input (\"Student to search: \")\n",
    "    if student == \"done\":\n",
    "        break\n",
    "    print (grd.plants(student))\n",
    "\n",
    "print (\"=> End of program\")\n"
   ]
  },
  {
   "cell_type": "code",
   "execution_count": null,
   "metadata": {},
   "outputs": [],
   "source": []
  }
 ],
 "metadata": {
  "kernelspec": {
   "display_name": "Python 3",
   "language": "python",
   "name": "python3"
  },
  "language_info": {
   "codemirror_mode": {
    "name": "ipython",
    "version": 3
   },
   "file_extension": ".py",
   "mimetype": "text/x-python",
   "name": "python",
   "nbconvert_exporter": "python",
   "pygments_lexer": "ipython3",
   "version": "3.7.4"
  }
 },
 "nbformat": 4,
 "nbformat_minor": 2
}
