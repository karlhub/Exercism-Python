{
 "cells": [
  {
   "cell_type": "code",
   "execution_count": 1,
   "metadata": {},
   "outputs": [
    {
     "ename": "SyntaxError",
     "evalue": "invalid syntax (<ipython-input-1-4f3d55d2c6f5>, line 3)",
     "output_type": "error",
     "traceback": [
      "\u001b[1;36m  File \u001b[1;32m\"<ipython-input-1-4f3d55d2c6f5>\"\u001b[1;36m, line \u001b[1;32m3\u001b[0m\n\u001b[1;33m    if len (strand_a) <> lem (strand_b):\u001b[0m\n\u001b[1;37m                       ^\u001b[0m\n\u001b[1;31mSyntaxError\u001b[0m\u001b[1;31m:\u001b[0m invalid syntax\n"
     ]
    }
   ],
   "source": [
    "def distance(strand_a, strand_b):\n",
    "    try:\n",
    "        if len (strand_a) <> lem (strand_b):\n",
    "            return (\"Error 1: strands are of different lengths\")\n",
    "    except:\n",
    "        return (\"Error 2: at least one of the strands has an invalid format\")\n",
    "\n",
    "    hamdist = 0\n",
    "    pos = 0\n",
    "    while pos < len (strand_a):\n",
    "        if strand_a[pos] <> strand_b[pos]:\n",
    "            hamdist += 1\n",
    "        pos +=1\n",
    "\n",
    "    return (hamdist)\n",
    "\n",
    "# Program tester\n",
    "while True:\n",
    "    strandA = input (\"Enter Strand A: \")\n",
    "    if strandA == \"done\":\n",
    "         break\n",
    "\n",
    "    strandB = input (\"Enter Strand B: \")\n",
    "    if strandA == \"done\":\n",
    "         break\n",
    "\n",
    "    hammingDist = distance(strandA,strandB)\n",
    "    print (\"Hamming Distance: \", hammingDist)\n",
    "\n",
    "print(\"=> End of program\")"
   ]
  },
  {
   "cell_type": "code",
   "execution_count": 2,
   "metadata": {},
   "outputs": [
    {
     "name": "stdout",
     "output_type": "stream",
     "text": [
      "Enter Strand A: \n",
      "Enter Strand B: \n",
      "Hamming Distance:  0\n",
      "Enter Strand A: a\n",
      "Enter Strand B: \n",
      "Hamming Distance:  Error 1: strands are of different lengths\n",
      "Enter Strand A: \n",
      "Enter Strand B: a\n",
      "Hamming Distance:  Error 1: strands are of different lengths\n",
      "Enter Strand A: a\n",
      "Enter Strand B: a\n",
      "Hamming Distance:  0\n",
      "Enter Strand A: atgc\n",
      "Enter Strand B: agtc\n",
      "Hamming Distance:  2\n",
      "Enter Strand A: a\n",
      "Enter Strand B: v\n",
      "Hamming Distance:  1\n",
      "Enter Strand A: a\n",
      "Enter Strand B: a\n",
      "Hamming Distance:  0\n",
      "Enter Strand A: a\n",
      "Enter Strand B: aa\n",
      "Hamming Distance:  Error 1: strands are of different lengths\n",
      "Enter Strand A: [1,2]\n",
      "Enter Strand B: [1,2]\n",
      "Hamming Distance:  0\n",
      "Enter Strand A: \n",
      "Enter Strand B: \n",
      "Hamming Distance:  0\n",
      "Enter Strand A: act\n",
      "Enter Strand B: actt\n",
      "Hamming Distance:  Error 1: strands are of different lengths\n",
      "Enter Strand A: a\n",
      "Enter Strand B: done\n",
      "Hamming Distance:  Error 1: strands are of different lengths\n",
      "Enter Strand A: done\n",
      "=> End of program\n"
     ]
    }
   ],
   "source": [
    "def distance(strand_a, strand_b):\n",
    "    try:\n",
    "        if len (strand_a) != len (strand_b):\n",
    "            return (\"Error 1: strands are of different lengths\")\n",
    "    except:\n",
    "        return (\"Error 2: at least one of the strands has an invalid format\")\n",
    "\n",
    "    hamdist = 0\n",
    "    pos = 0\n",
    "    while pos < len (strand_a):\n",
    "        if strand_a[pos] != strand_b[pos]:\n",
    "            hamdist += 1\n",
    "        pos +=1\n",
    "\n",
    "    return (hamdist)\n",
    "\n",
    "# Program tester\n",
    "while True:\n",
    "    strandA = input (\"Enter Strand A: \")\n",
    "    if strandA == \"done\":\n",
    "         break\n",
    "\n",
    "    strandB = input (\"Enter Strand B: \")\n",
    "    if strandA == \"done\":\n",
    "         break\n",
    "\n",
    "    hammingDist = distance(strandA,strandB)\n",
    "    print (\"Hamming Distance: \", hammingDist)\n",
    "\n",
    "print(\"=> End of program\")"
   ]
  },
  {
   "cell_type": "code",
   "execution_count": 3,
   "metadata": {},
   "outputs": [
    {
     "name": "stdout",
     "output_type": "stream",
     "text": [
      "Enter Strand A: \n",
      "Enter Strand B: \n",
      "Hamming Distance:  0\n",
      "Enter Strand A: a\n",
      "Enter Strand B: a\n",
      "Hamming Distance:  0\n",
      "Enter Strand A: a\n",
      "Enter Strand B: b\n",
      "Hamming Distance:  1\n",
      "Enter Strand A: a\n",
      "Enter Strand B: bb\n"
     ]
    },
    {
     "ename": "ValueError",
     "evalue": "Error 1: strands are of different lengths",
     "output_type": "error",
     "traceback": [
      "\u001b[1;31m---------------------------------------------------------------------------\u001b[0m",
      "\u001b[1;31mValueError\u001b[0m                                Traceback (most recent call last)",
      "\u001b[1;32m<ipython-input-3-f8d26ff376d5>\u001b[0m in \u001b[0;36m<module>\u001b[1;34m\u001b[0m\n\u001b[0;32m     26\u001b[0m          \u001b[1;32mbreak\u001b[0m\u001b[1;33m\u001b[0m\u001b[1;33m\u001b[0m\u001b[0m\n\u001b[0;32m     27\u001b[0m \u001b[1;33m\u001b[0m\u001b[0m\n\u001b[1;32m---> 28\u001b[1;33m     \u001b[0mhammingDist\u001b[0m \u001b[1;33m=\u001b[0m \u001b[0mdistance\u001b[0m\u001b[1;33m(\u001b[0m\u001b[0mstrandA\u001b[0m\u001b[1;33m,\u001b[0m\u001b[0mstrandB\u001b[0m\u001b[1;33m)\u001b[0m\u001b[1;33m\u001b[0m\u001b[1;33m\u001b[0m\u001b[0m\n\u001b[0m\u001b[0;32m     29\u001b[0m     \u001b[0mprint\u001b[0m \u001b[1;33m(\u001b[0m\u001b[1;34m\"Hamming Distance: \"\u001b[0m\u001b[1;33m,\u001b[0m \u001b[0mhammingDist\u001b[0m\u001b[1;33m)\u001b[0m\u001b[1;33m\u001b[0m\u001b[1;33m\u001b[0m\u001b[0m\n\u001b[0;32m     30\u001b[0m \u001b[1;33m\u001b[0m\u001b[0m\n",
      "\u001b[1;32m<ipython-input-3-f8d26ff376d5>\u001b[0m in \u001b[0;36mdistance\u001b[1;34m(strand_a, strand_b)\u001b[0m\n\u001b[0;32m      2\u001b[0m \u001b[1;33m\u001b[0m\u001b[0m\n\u001b[0;32m      3\u001b[0m     \u001b[1;32mif\u001b[0m \u001b[0mlen\u001b[0m \u001b[1;33m(\u001b[0m\u001b[0mstrand_a\u001b[0m\u001b[1;33m)\u001b[0m \u001b[1;33m!=\u001b[0m \u001b[0mlen\u001b[0m \u001b[1;33m(\u001b[0m\u001b[0mstrand_b\u001b[0m\u001b[1;33m)\u001b[0m\u001b[1;33m:\u001b[0m\u001b[1;33m\u001b[0m\u001b[1;33m\u001b[0m\u001b[0m\n\u001b[1;32m----> 4\u001b[1;33m         \u001b[1;32mraise\u001b[0m \u001b[0mValueError\u001b[0m\u001b[1;33m(\u001b[0m\u001b[1;34m\"Error 1: strands are of different lengths\"\u001b[0m\u001b[1;33m)\u001b[0m\u001b[1;33m\u001b[0m\u001b[1;33m\u001b[0m\u001b[0m\n\u001b[0m\u001b[0;32m      5\u001b[0m \u001b[1;33m\u001b[0m\u001b[0m\n\u001b[0;32m      6\u001b[0m     \u001b[1;32mreturn\u001b[0m \u001b[0mlen\u001b[0m \u001b[1;33m(\u001b[0m\u001b[1;33m[\u001b[0m\u001b[1;33m(\u001b[0m\u001b[0ma\u001b[0m\u001b[1;33m,\u001b[0m \u001b[0mb\u001b[0m\u001b[1;33m)\u001b[0m \u001b[1;32mfor\u001b[0m \u001b[1;33m(\u001b[0m\u001b[0ma\u001b[0m\u001b[1;33m,\u001b[0m \u001b[0mb\u001b[0m\u001b[1;33m)\u001b[0m \u001b[1;32min\u001b[0m \u001b[0mzip\u001b[0m\u001b[1;33m(\u001b[0m\u001b[0mstrand_a\u001b[0m\u001b[1;33m,\u001b[0m \u001b[0mstrand_b\u001b[0m\u001b[1;33m)\u001b[0m \u001b[1;32mif\u001b[0m \u001b[0ma\u001b[0m \u001b[1;33m!=\u001b[0m \u001b[0mb\u001b[0m\u001b[1;33m]\u001b[0m\u001b[1;33m)\u001b[0m\u001b[1;33m\u001b[0m\u001b[1;33m\u001b[0m\u001b[0m\n",
      "\u001b[1;31mValueError\u001b[0m: Error 1: strands are of different lengths"
     ]
    }
   ],
   "source": [
    "def distance(strand_a, strand_b):\n",
    "\n",
    "    if len (strand_a) != len (strand_b):\n",
    "        raise ValueError(\"Error 1: strands are of different lengths\")\n",
    "\n",
    "    return len ([(a, b) for (a, b) in zip(strand_a, strand_b) if a != b])\n",
    "\n",
    "# Original solution\n",
    "#    hamdist = 0\n",
    "#    pos = 0\n",
    "#    while pos < len (strand_a):\n",
    "#        if strand_a[pos] != strand_b[pos]:\n",
    "#            hamdist += 1\n",
    "#        pos +=1\n",
    "\n",
    "#    return (hamdist)\n",
    "\n",
    "# Program tester\n",
    "while True:\n",
    "    strandA = input (\"Enter Strand A: \")\n",
    "    if strandA == \"done\":\n",
    "         break\n",
    "\n",
    "    strandB = input (\"Enter Strand B: \")\n",
    "    if strandB == \"done\":\n",
    "         break\n",
    "\n",
    "    hammingDist = distance(strandA,strandB)\n",
    "    print (\"Hamming Distance: \", hammingDist)\n",
    "\n",
    "print(\"=> End of program\")\n"
   ]
  },
  {
   "cell_type": "code",
   "execution_count": 4,
   "metadata": {},
   "outputs": [
    {
     "name": "stdout",
     "output_type": "stream",
     "text": [
      "String to analyze: sdfjksbdsb\n",
      "['b', 'b', 'd', 'd', 'f', 'j', 'k', 's', 's', 's']\n",
      "String to analyze: hjjk dak aha ashasdadsa, askasñ  asñk\n",
      "[' ', ' ', ' ', ' ', ' ', ' ', ',', 'a', 'a', 'a', 'a', 'a', 'a', 'a', 'a', 'a', 'a', 'd', 'd', 'd', 'h', 'h', 'h', 'j', 'j', 'k', 'k', 'k', 'k', 's', 's', 's', 's', 's', 's', 'ñ', 'ñ']\n",
      "String to analyze: done\n",
      "=> End of program\n"
     ]
    }
   ],
   "source": [
    "def is_isogram(string):\n",
    "    s = sorted(string)\n",
    "    return (s)\n",
    "\n",
    "# Program tester\n",
    "while True:\n",
    "    stringIso = input (\"String to analyze: \")\n",
    "    if stringIso == \"done\":\n",
    "         break\n",
    "\n",
    "    resIso = is_isogram(stringIso)\n",
    "    print (resIso)\n",
    "\n",
    "print(\"=> End of program\")"
   ]
  },
  {
   "cell_type": "code",
   "execution_count": 5,
   "metadata": {},
   "outputs": [
    {
     "name": "stdout",
     "output_type": "stream",
     "text": [
      "String to analyze: hola\n"
     ]
    },
    {
     "ename": "KeyError",
     "evalue": "'h'",
     "output_type": "error",
     "traceback": [
      "\u001b[1;31m---------------------------------------------------------------------------\u001b[0m",
      "\u001b[1;31mKeyError\u001b[0m                                  Traceback (most recent call last)",
      "\u001b[1;32m<ipython-input-5-18bc0266d7f4>\u001b[0m in \u001b[0;36m<module>\u001b[1;34m\u001b[0m\n\u001b[0;32m     10\u001b[0m     \u001b[1;32mif\u001b[0m \u001b[0mstringIso\u001b[0m \u001b[1;33m==\u001b[0m \u001b[1;34m\"done\"\u001b[0m\u001b[1;33m:\u001b[0m\u001b[1;33m\u001b[0m\u001b[1;33m\u001b[0m\u001b[0m\n\u001b[0;32m     11\u001b[0m          \u001b[1;32mbreak\u001b[0m\u001b[1;33m\u001b[0m\u001b[1;33m\u001b[0m\u001b[0m\n\u001b[1;32m---> 12\u001b[1;33m     \u001b[0mresIso\u001b[0m \u001b[1;33m=\u001b[0m \u001b[0mis_isogram\u001b[0m\u001b[1;33m(\u001b[0m\u001b[0mstringIso\u001b[0m\u001b[1;33m)\u001b[0m\u001b[1;33m\u001b[0m\u001b[1;33m\u001b[0m\u001b[0m\n\u001b[0m\u001b[0;32m     13\u001b[0m     \u001b[0mprint\u001b[0m \u001b[1;33m(\u001b[0m\u001b[0mresIso\u001b[0m\u001b[1;33m)\u001b[0m\u001b[1;33m\u001b[0m\u001b[1;33m\u001b[0m\u001b[0m\n\u001b[0;32m     14\u001b[0m \u001b[1;33m\u001b[0m\u001b[0m\n",
      "\u001b[1;32m<ipython-input-5-18bc0266d7f4>\u001b[0m in \u001b[0;36mis_isogram\u001b[1;34m(string)\u001b[0m\n\u001b[0;32m      2\u001b[0m     \u001b[0md\u001b[0m\u001b[1;33m=\u001b[0m\u001b[0mdict\u001b[0m\u001b[1;33m(\u001b[0m\u001b[1;33m)\u001b[0m\u001b[1;33m\u001b[0m\u001b[1;33m\u001b[0m\u001b[0m\n\u001b[0;32m      3\u001b[0m     \u001b[1;32mfor\u001b[0m \u001b[0mc\u001b[0m \u001b[1;32min\u001b[0m \u001b[0mstring\u001b[0m\u001b[1;33m:\u001b[0m\u001b[1;33m\u001b[0m\u001b[1;33m\u001b[0m\u001b[0m\n\u001b[1;32m----> 4\u001b[1;33m         \u001b[0md\u001b[0m\u001b[1;33m[\u001b[0m\u001b[0mc\u001b[0m\u001b[1;33m]\u001b[0m \u001b[1;33m+=\u001b[0m \u001b[1;36m1\u001b[0m\u001b[1;33m\u001b[0m\u001b[1;33m\u001b[0m\u001b[0m\n\u001b[0m\u001b[0;32m      5\u001b[0m     \u001b[1;32mreturn\u001b[0m \u001b[1;33m(\u001b[0m\u001b[0md\u001b[0m\u001b[1;33m)\u001b[0m\u001b[1;33m\u001b[0m\u001b[1;33m\u001b[0m\u001b[0m\n\u001b[0;32m      6\u001b[0m \u001b[1;33m\u001b[0m\u001b[0m\n",
      "\u001b[1;31mKeyError\u001b[0m: 'h'"
     ]
    }
   ],
   "source": [
    "def is_isogram(string):\n",
    "    d=dict()\n",
    "    for c in string:\n",
    "        d[c] += 1\n",
    "    return (d)\n",
    "\n",
    "# Program tester\n",
    "while True:\n",
    "    stringIso = input (\"String to analyze: \")\n",
    "    if stringIso == \"done\":\n",
    "         break\n",
    "    resIso = is_isogram(stringIso)\n",
    "    print (resIso)\n",
    "\n",
    "print(\"=> End of program\")\n"
   ]
  },
  {
   "cell_type": "code",
   "execution_count": 6,
   "metadata": {},
   "outputs": [
    {
     "name": "stdout",
     "output_type": "stream",
     "text": [
      "String to analyze: hola\n",
      "{'h': 1, 'o': 1, 'l': 1, 'a': 1}\n",
      "String to analyze: hoola\n",
      "{'h': 1, 'o': 2, 'l': 1, 'a': 1}\n",
      "String to analyze: done\n",
      "=> End of program\n"
     ]
    }
   ],
   "source": [
    "def is_isogram(string):\n",
    "    d=dict()\n",
    "    for c in string:\n",
    "        d[c] = d.get(c,0)+1\n",
    "    return (d)\n",
    "\n",
    "# Program tester\n",
    "while True:\n",
    "    stringIso = input (\"String to analyze: \")\n",
    "    if stringIso == \"done\":\n",
    "         break\n",
    "    resIso = is_isogram(stringIso)\n",
    "    print (resIso)\n",
    "\n",
    "print(\"=> End of program\")"
   ]
  },
  {
   "cell_type": "code",
   "execution_count": 7,
   "metadata": {},
   "outputs": [
    {
     "name": "stdout",
     "output_type": "stream",
     "text": [
      "String to analyze: hola\n",
      "Is Isogram?  True\n",
      "String to analyze: hoola\n",
      "Is Isogram?  False\n",
      "String to analyze: adios aquí\n",
      "Is Isogram?  False\n",
      "String to analyze: adios quí\n",
      "Is Isogram?  True\n",
      "String to analyze: adios qui ke\n",
      "Is Isogram?  False\n",
      "String to analyze: done\n",
      "=> End of program\n"
     ]
    }
   ],
   "source": [
    "def is_isogram(string):\n",
    "    d=dict()\n",
    "    for c in string:\n",
    "        d[c] = d.get(c,0)+1\n",
    "        if d[c] > 1:\n",
    "            return (False)\n",
    "    return (True)\n",
    "\n",
    "# Program tester\n",
    "while True:\n",
    "    stringIso = input (\"String to analyze: \")\n",
    "    if stringIso == \"done\":\n",
    "         break\n",
    "    resIso = is_isogram(stringIso)\n",
    "    print (\"Is Isogram? \",resIso)\n",
    "\n",
    "print(\"=> End of program\")"
   ]
  },
  {
   "cell_type": "code",
   "execution_count": 8,
   "metadata": {},
   "outputs": [
    {
     "name": "stdout",
     "output_type": "stream",
     "text": [
      "String to analyze: hola estoy bin\n",
      "Is Isogram?  False\n",
      "String to analyze: hola estuy bin\n",
      "Is Isogram?  True\n",
      "String to analyze: hola-estuy-bin\n",
      "Is Isogram?  True\n",
      "String to analyze: done\n",
      "=> End of program\n"
     ]
    }
   ],
   "source": [
    "def is_isogram(string):\n",
    "    d=dict()\n",
    "    for c in string:\n",
    "        d[c] = d.get(c,0)+1\n",
    "        if c != \" \" and c != \"-\" and d[c] > 1:\n",
    "            return (False)\n",
    "    return (True)\n",
    "\n",
    "# Program tester\n",
    "while True:\n",
    "    stringIso = input (\"String to analyze: \")\n",
    "    if stringIso == \"done\":\n",
    "         break\n",
    "    resIso = is_isogram(stringIso)\n",
    "    print (\"Is Isogram? \",resIso)\n",
    "\n",
    "print(\"=> End of program\")"
   ]
  },
  {
   "cell_type": "code",
   "execution_count": null,
   "metadata": {},
   "outputs": [],
   "source": []
  }
 ],
 "metadata": {
  "kernelspec": {
   "display_name": "Python 3",
   "language": "python",
   "name": "python3"
  },
  "language_info": {
   "codemirror_mode": {
    "name": "ipython",
    "version": 3
   },
   "file_extension": ".py",
   "mimetype": "text/x-python",
   "name": "python",
   "nbconvert_exporter": "python",
   "pygments_lexer": "ipython3",
   "version": "3.7.4"
  }
 },
 "nbformat": 4,
 "nbformat_minor": 2
}
