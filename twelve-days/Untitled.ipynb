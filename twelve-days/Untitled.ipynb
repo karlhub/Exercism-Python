{
 "cells": [
  {
   "cell_type": "code",
   "execution_count": null,
   "metadata": {},
   "outputs": [
    {
     "name": "stdout",
     "output_type": "stream",
     "text": [
      "Start Verse: 1\n",
      "End Verse: 2\n",
      "On the second  day of Christmas my true love gave to me: \n"
     ]
    }
   ],
   "source": [
    "def recite(start_verse, end_verse):\n",
    "    song_verses_order = [\"first \",\"second \",\"third \",\"fourth \",\"fifth \",\"sixth \",\"seventh \",\"eighth \",\"ninth \",\"tenth \",\"eleventh \",\"twelfth \"]\n",
    "    song_verses_compl = [\"twelve Drummers Drumming, \",\n",
    "                         \"eleven Pipers Piping, \",\n",
    "                         \"ten Lords-a-Leaping, \",\n",
    "                         \"nine Ladies Dancing, \",\n",
    "                         \"eight Maids-a-Milking, \",\n",
    "                         \"seven Swans-a-Swimming, \",\n",
    "                         \"six Geese-a-Laying, \",\n",
    "                         \"five Gold Rings, \",\n",
    "                         \"four Calling Birds, \",\n",
    "                         \"three French Hens, \",\n",
    "                         \"two Turtle Doves, \",\n",
    "                         \"a Partridge in a Pear Tree.\"]\n",
    "\n",
    "    song_piece = \"On the \" + song_verses_order[start_verse] + \" day of Christmas my true love gave to me: \"\n",
    "    return (song_piece)\n",
    "\n",
    "# Program tester\n",
    "while True:\n",
    "    try:\n",
    "        start_ver = int (input (\"Start Verse: \"))\n",
    "    except:\n",
    "        print (\"Error Prg 1: start verse not sn integer\")\n",
    "        break\n",
    "\n",
    "    try:\n",
    "        end_ver = int (input (\"End Verse: \"))\n",
    "    except:\n",
    "        print (\"Error Prg 2: end verse not sn integer\")\n",
    "        break\n",
    "\n",
    "    song_piece = recite (start_ver, end_ver)\n",
    "    print (song_piece)\n",
    "\n",
    "print(\"=> End of program\")"
   ]
  },
  {
   "cell_type": "code",
   "execution_count": null,
   "metadata": {},
   "outputs": [],
   "source": []
  }
 ],
 "metadata": {
  "kernelspec": {
   "display_name": "Python 3",
   "language": "python",
   "name": "python3"
  },
  "language_info": {
   "codemirror_mode": {
    "name": "ipython",
    "version": 3
   },
   "file_extension": ".py",
   "mimetype": "text/x-python",
   "name": "python",
   "nbconvert_exporter": "python",
   "pygments_lexer": "ipython3",
   "version": "3.7.4"
  }
 },
 "nbformat": 4,
 "nbformat_minor": 2
}
