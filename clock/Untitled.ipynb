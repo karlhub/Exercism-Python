{
 "cells": [
  {
   "cell_type": "code",
   "execution_count": 1,
   "metadata": {},
   "outputs": [
    {
     "name": "stdout",
     "output_type": "stream",
     "text": [
      "(2, 1)\n"
     ]
    }
   ],
   "source": [
    "x = divmod(5, 2)\n",
    "print (x)"
   ]
  },
  {
   "cell_type": "code",
   "execution_count": 2,
   "metadata": {},
   "outputs": [
    {
     "name": "stdout",
     "output_type": "stream",
     "text": [
      "2\n"
     ]
    }
   ],
   "source": [
    "print (x[0])"
   ]
  },
  {
   "cell_type": "code",
   "execution_count": 3,
   "metadata": {},
   "outputs": [
    {
     "name": "stdout",
     "output_type": "stream",
     "text": [
      "1\n"
     ]
    }
   ],
   "source": [
    "print (x[1])"
   ]
  },
  {
   "cell_type": "code",
   "execution_count": 4,
   "metadata": {},
   "outputs": [
    {
     "name": "stdout",
     "output_type": "stream",
     "text": [
      "(0, 1)\n"
     ]
    }
   ],
   "source": [
    "print (divmod(1,60))"
   ]
  },
  {
   "cell_type": "code",
   "execution_count": 5,
   "metadata": {},
   "outputs": [
    {
     "name": "stdout",
     "output_type": "stream",
     "text": [
      "(0, 0)\n"
     ]
    }
   ],
   "source": [
    "print (divmod(0,60))"
   ]
  },
  {
   "cell_type": "code",
   "execution_count": 6,
   "metadata": {},
   "outputs": [
    {
     "name": "stdout",
     "output_type": "stream",
     "text": [
      "(0, 58)\n"
     ]
    }
   ],
   "source": [
    "print (divmod(58,60))"
   ]
  },
  {
   "cell_type": "code",
   "execution_count": 7,
   "metadata": {},
   "outputs": [
    {
     "name": "stdout",
     "output_type": "stream",
     "text": [
      "(0, 59)\n"
     ]
    }
   ],
   "source": [
    "print (divmod(59,60))"
   ]
  },
  {
   "cell_type": "code",
   "execution_count": 8,
   "metadata": {},
   "outputs": [
    {
     "name": "stdout",
     "output_type": "stream",
     "text": [
      "(1, 0)\n"
     ]
    }
   ],
   "source": [
    "print (divmod(60,60))"
   ]
  },
  {
   "cell_type": "code",
   "execution_count": 9,
   "metadata": {},
   "outputs": [
    {
     "name": "stdout",
     "output_type": "stream",
     "text": [
      "(1, 1)\n"
     ]
    }
   ],
   "source": [
    "print (divmod(61,60))"
   ]
  },
  {
   "cell_type": "code",
   "execution_count": 10,
   "metadata": {},
   "outputs": [
    {
     "name": "stdout",
     "output_type": "stream",
     "text": [
      "(4, 0)\n"
     ]
    }
   ],
   "source": [
    "print (divmod(240,60))"
   ]
  },
  {
   "cell_type": "code",
   "execution_count": 11,
   "metadata": {},
   "outputs": [
    {
     "name": "stdout",
     "output_type": "stream",
     "text": [
      "(-4, 0)\n"
     ]
    }
   ],
   "source": [
    "print (divmod(-240,60))"
   ]
  },
  {
   "cell_type": "code",
   "execution_count": 14,
   "metadata": {},
   "outputs": [
    {
     "name": "stdout",
     "output_type": "stream",
     "text": [
      "(-5, 59)\n"
     ]
    }
   ],
   "source": [
    "print (divmod(-241,60))"
   ]
  },
  {
   "cell_type": "code",
   "execution_count": 13,
   "metadata": {},
   "outputs": [
    {
     "name": "stdout",
     "output_type": "stream",
     "text": [
      "(4, 1)\n"
     ]
    }
   ],
   "source": [
    "print (divmod(241,60))"
   ]
  },
  {
   "cell_type": "code",
   "execution_count": 17,
   "metadata": {},
   "outputs": [
    {
     "name": "stdout",
     "output_type": "stream",
     "text": [
      "(1, 1)\n"
     ]
    }
   ],
   "source": [
    "print (divmod(25,24))"
   ]
  },
  {
   "cell_type": "code",
   "execution_count": 18,
   "metadata": {},
   "outputs": [
    {
     "ename": "SyntaxError",
     "evalue": "invalid syntax (<ipython-input-18-a94acceaa6dd>, line 2)",
     "output_type": "error",
     "traceback": [
      "\u001b[1;36m  File \u001b[1;32m\"<ipython-input-18-a94acceaa6dd>\"\u001b[1;36m, line \u001b[1;32m2\u001b[0m\n\u001b[1;33m    def __init__(self, int hour = 0, int minute = 0):\u001b[0m\n\u001b[1;37m                              ^\u001b[0m\n\u001b[1;31mSyntaxError\u001b[0m\u001b[1;31m:\u001b[0m invalid syntax\n"
     ]
    }
   ],
   "source": [
    "class Clock:\n",
    "    def __init__(self, int hour = 0, int minute = 0):\n",
    "        minute_to_hhmm = divmod (minute,60)\n",
    "        hour_to_ddhh = divmod (hour,24)\n",
    "        self.hour = hour_to_ddhh[1] + minute_to_hhmm[0]\n",
    "        self.minute = minute_to_hhmm[1]\n",
    "\n",
    "    def __repr__(self):\n",
    "        pass\n",
    "\n",
    "    def __eq__(self, other):\n",
    "        pass\n",
    "\n",
    "    def __add__(self, minutes):\n",
    "        pass\n",
    "\n",
    "    def __sub__(self, minutes):\n",
    "        pass\n",
    "\n",
    "# Program tester\n",
    "while True:\n",
    "    hour = input (\"Hour: \")\n",
    "    minute = input (\"Minute: \")\n",
    "    if hour == \"done\":\n",
    "        break\n",
    "    hhmm = Clock(hour, minute)\n",
    "    print (\"Clock: \", hhmm)\n",
    "\n",
    "print (\"=> End of program\")"
   ]
  },
  {
   "cell_type": "code",
   "execution_count": 19,
   "metadata": {},
   "outputs": [
    {
     "ename": "SyntaxError",
     "evalue": "invalid syntax (<ipython-input-19-c8e8be8e73b8>, line 2)",
     "output_type": "error",
     "traceback": [
      "\u001b[1;36m  File \u001b[1;32m\"<ipython-input-19-c8e8be8e73b8>\"\u001b[1;36m, line \u001b[1;32m2\u001b[0m\n\u001b[1;33m    def __init__(self, int(hour = 0), int (minute = 0)):\u001b[0m\n\u001b[1;37m                          ^\u001b[0m\n\u001b[1;31mSyntaxError\u001b[0m\u001b[1;31m:\u001b[0m invalid syntax\n"
     ]
    }
   ],
   "source": [
    "class Clock:\n",
    "    def __init__(self, int(hour = 0), int (minute = 0)):\n",
    "        minute_to_hhmm = divmod (minute,60)\n",
    "        hour_to_ddhh = divmod (hour,24)\n",
    "        self.hour = hour_to_ddhh[1] + minute_to_hhmm[0]\n",
    "        self.minute = minute_to_hhmm[1]\n",
    "\n",
    "    def __repr__(self):\n",
    "        pass\n",
    "\n",
    "    def __eq__(self, other):\n",
    "        pass\n",
    "\n",
    "    def __add__(self, minutes):\n",
    "        pass\n",
    "\n",
    "    def __sub__(self, minutes):\n",
    "        pass\n",
    "\n",
    "# Program tester\n",
    "while True:\n",
    "    hour = input (\"Hour: \")\n",
    "    minute = input (\"Minute: \")\n",
    "    if hour == \"done\":\n",
    "        break\n",
    "    hhmm = Clock(hour, minute)\n",
    "    print (\"Clock: \", hhmm)\n",
    "\n",
    "print (\"=> End of program\")"
   ]
  },
  {
   "cell_type": "code",
   "execution_count": 20,
   "metadata": {},
   "outputs": [
    {
     "ename": "SyntaxError",
     "evalue": "invalid syntax (<ipython-input-20-ff7daaee89bb>, line 2)",
     "output_type": "error",
     "traceback": [
      "\u001b[1;36m  File \u001b[1;32m\"<ipython-input-20-ff7daaee89bb>\"\u001b[1;36m, line \u001b[1;32m2\u001b[0m\n\u001b[1;33m    def __init__(self, int(hour) = 0, int (minute) = 0):\u001b[0m\n\u001b[1;37m                          ^\u001b[0m\n\u001b[1;31mSyntaxError\u001b[0m\u001b[1;31m:\u001b[0m invalid syntax\n"
     ]
    }
   ],
   "source": [
    "class Clock:\n",
    "    def __init__(self, int(hour) = 0, int (minute) = 0):\n",
    "        minute_to_hhmm = divmod (minute,60)\n",
    "        hour_to_ddhh = divmod (hour,24)\n",
    "        self.hour = hour_to_ddhh[1] + minute_to_hhmm[0]\n",
    "        self.minute = minute_to_hhmm[1]\n",
    "\n",
    "    def __repr__(self):\n",
    "        pass\n",
    "\n",
    "    def __eq__(self, other):\n",
    "        pass\n",
    "\n",
    "    def __add__(self, minutes):\n",
    "        pass\n",
    "\n",
    "    def __sub__(self, minutes):\n",
    "        pass\n",
    "\n",
    "# Program tester\n",
    "while True:\n",
    "    hour = input (\"Hour: \")\n",
    "    minute = input (\"Minute: \")\n",
    "    if hour == \"done\":\n",
    "        break\n",
    "    hhmm = Clock(hour, minute)\n",
    "    print (\"Clock: \", hhmm)\n",
    "\n",
    "print (\"=> End of program\")"
   ]
  },
  {
   "cell_type": "code",
   "execution_count": 21,
   "metadata": {},
   "outputs": [
    {
     "name": "stdout",
     "output_type": "stream",
     "text": [
      "Hour: 1\n",
      "Minute: 20\n"
     ]
    },
    {
     "ename": "TypeError",
     "evalue": "unsupported operand type(s) for divmod(): 'str' and 'int'",
     "output_type": "error",
     "traceback": [
      "\u001b[1;31m---------------------------------------------------------------------------\u001b[0m",
      "\u001b[1;31mTypeError\u001b[0m                                 Traceback (most recent call last)",
      "\u001b[1;32m<ipython-input-21-7e7962e72355>\u001b[0m in \u001b[0;36m<module>\u001b[1;34m\u001b[0m\n\u001b[0;32m     24\u001b[0m     \u001b[1;32mif\u001b[0m \u001b[0mhour\u001b[0m \u001b[1;33m==\u001b[0m \u001b[1;34m\"done\"\u001b[0m\u001b[1;33m:\u001b[0m\u001b[1;33m\u001b[0m\u001b[1;33m\u001b[0m\u001b[0m\n\u001b[0;32m     25\u001b[0m         \u001b[1;32mbreak\u001b[0m\u001b[1;33m\u001b[0m\u001b[1;33m\u001b[0m\u001b[0m\n\u001b[1;32m---> 26\u001b[1;33m     \u001b[0mhhmm\u001b[0m \u001b[1;33m=\u001b[0m \u001b[0mClock\u001b[0m\u001b[1;33m(\u001b[0m\u001b[0mhour\u001b[0m\u001b[1;33m,\u001b[0m \u001b[0mminute\u001b[0m\u001b[1;33m)\u001b[0m\u001b[1;33m\u001b[0m\u001b[1;33m\u001b[0m\u001b[0m\n\u001b[0m\u001b[0;32m     27\u001b[0m     \u001b[0mprint\u001b[0m \u001b[1;33m(\u001b[0m\u001b[1;34m\"Clock: \"\u001b[0m\u001b[1;33m,\u001b[0m \u001b[0mhhmm\u001b[0m\u001b[1;33m)\u001b[0m\u001b[1;33m\u001b[0m\u001b[1;33m\u001b[0m\u001b[0m\n\u001b[0;32m     28\u001b[0m \u001b[1;33m\u001b[0m\u001b[0m\n",
      "\u001b[1;32m<ipython-input-21-7e7962e72355>\u001b[0m in \u001b[0;36m__init__\u001b[1;34m(self, hour, minute)\u001b[0m\n\u001b[0;32m      1\u001b[0m \u001b[1;32mclass\u001b[0m \u001b[0mClock\u001b[0m\u001b[1;33m:\u001b[0m\u001b[1;33m\u001b[0m\u001b[1;33m\u001b[0m\u001b[0m\n\u001b[0;32m      2\u001b[0m     \u001b[1;32mdef\u001b[0m \u001b[0m__init__\u001b[0m\u001b[1;33m(\u001b[0m\u001b[0mself\u001b[0m\u001b[1;33m,\u001b[0m \u001b[0mhour\u001b[0m \u001b[1;33m=\u001b[0m \u001b[1;36m0\u001b[0m\u001b[1;33m,\u001b[0m \u001b[0mminute\u001b[0m \u001b[1;33m=\u001b[0m \u001b[1;36m0\u001b[0m\u001b[1;33m)\u001b[0m\u001b[1;33m:\u001b[0m\u001b[1;33m\u001b[0m\u001b[1;33m\u001b[0m\u001b[0m\n\u001b[1;32m----> 3\u001b[1;33m         \u001b[0mminute_to_hhmm\u001b[0m \u001b[1;33m=\u001b[0m \u001b[0mdivmod\u001b[0m \u001b[1;33m(\u001b[0m\u001b[0mminute\u001b[0m\u001b[1;33m,\u001b[0m\u001b[1;36m60\u001b[0m\u001b[1;33m)\u001b[0m\u001b[1;33m\u001b[0m\u001b[1;33m\u001b[0m\u001b[0m\n\u001b[0m\u001b[0;32m      4\u001b[0m         \u001b[0mhour_to_ddhh\u001b[0m \u001b[1;33m=\u001b[0m \u001b[0mdivmod\u001b[0m \u001b[1;33m(\u001b[0m\u001b[0mhour\u001b[0m\u001b[1;33m,\u001b[0m\u001b[1;36m24\u001b[0m\u001b[1;33m)\u001b[0m\u001b[1;33m\u001b[0m\u001b[1;33m\u001b[0m\u001b[0m\n\u001b[0;32m      5\u001b[0m         \u001b[0mself\u001b[0m\u001b[1;33m.\u001b[0m\u001b[0mhour\u001b[0m \u001b[1;33m=\u001b[0m \u001b[0mhour_to_ddhh\u001b[0m\u001b[1;33m[\u001b[0m\u001b[1;36m1\u001b[0m\u001b[1;33m]\u001b[0m \u001b[1;33m+\u001b[0m \u001b[0mminute_to_hhmm\u001b[0m\u001b[1;33m[\u001b[0m\u001b[1;36m0\u001b[0m\u001b[1;33m]\u001b[0m\u001b[1;33m\u001b[0m\u001b[1;33m\u001b[0m\u001b[0m\n",
      "\u001b[1;31mTypeError\u001b[0m: unsupported operand type(s) for divmod(): 'str' and 'int'"
     ]
    }
   ],
   "source": [
    "class Clock:\n",
    "    def __init__(self, hour = 0, minute = 0):\n",
    "        minute_to_hhmm = divmod (minute,60)\n",
    "        hour_to_ddhh = divmod (hour,24)\n",
    "        self.hour = hour_to_ddhh[1] + minute_to_hhmm[0]\n",
    "        self.minute = minute_to_hhmm[1]\n",
    "\n",
    "    def __repr__(self):\n",
    "        pass\n",
    "\n",
    "    def __eq__(self, other):\n",
    "        pass\n",
    "\n",
    "    def __add__(self, minutes):\n",
    "        pass\n",
    "\n",
    "    def __sub__(self, minutes):\n",
    "        pass\n",
    "\n",
    "# Program tester\n",
    "while True:\n",
    "    hour = input (\"Hour: \")\n",
    "    minute = input (\"Minute: \")\n",
    "    if hour == \"done\":\n",
    "        break\n",
    "    hhmm = Clock(hour, minute)\n",
    "    print (\"Clock: \", hhmm)\n",
    "\n",
    "print (\"=> End of program\")"
   ]
  },
  {
   "cell_type": "code",
   "execution_count": 22,
   "metadata": {},
   "outputs": [
    {
     "name": "stdout",
     "output_type": "stream",
     "text": [
      "Hour: 1\n",
      "Minute: 23\n",
      "Clock:  "
     ]
    },
    {
     "ename": "TypeError",
     "evalue": "__str__ returned non-string (type NoneType)",
     "output_type": "error",
     "traceback": [
      "\u001b[1;31m---------------------------------------------------------------------------\u001b[0m",
      "\u001b[1;31mTypeError\u001b[0m                                 Traceback (most recent call last)",
      "\u001b[1;32m<ipython-input-22-02eeb382b6d7>\u001b[0m in \u001b[0;36m<module>\u001b[1;34m\u001b[0m\n\u001b[0;32m     25\u001b[0m         \u001b[1;32mbreak\u001b[0m\u001b[1;33m\u001b[0m\u001b[1;33m\u001b[0m\u001b[0m\n\u001b[0;32m     26\u001b[0m     \u001b[0mhhmm\u001b[0m \u001b[1;33m=\u001b[0m \u001b[0mClock\u001b[0m\u001b[1;33m(\u001b[0m\u001b[0mhour\u001b[0m\u001b[1;33m,\u001b[0m \u001b[0mminute\u001b[0m\u001b[1;33m)\u001b[0m\u001b[1;33m\u001b[0m\u001b[1;33m\u001b[0m\u001b[0m\n\u001b[1;32m---> 27\u001b[1;33m     \u001b[0mprint\u001b[0m \u001b[1;33m(\u001b[0m\u001b[1;34m\"Clock: \"\u001b[0m\u001b[1;33m,\u001b[0m \u001b[0mhhmm\u001b[0m\u001b[1;33m)\u001b[0m\u001b[1;33m\u001b[0m\u001b[1;33m\u001b[0m\u001b[0m\n\u001b[0m\u001b[0;32m     28\u001b[0m \u001b[1;33m\u001b[0m\u001b[0m\n\u001b[0;32m     29\u001b[0m \u001b[0mprint\u001b[0m \u001b[1;33m(\u001b[0m\u001b[1;34m\"=> End of program\"\u001b[0m\u001b[1;33m)\u001b[0m\u001b[1;33m\u001b[0m\u001b[1;33m\u001b[0m\u001b[0m\n",
      "\u001b[1;31mTypeError\u001b[0m: __str__ returned non-string (type NoneType)"
     ]
    }
   ],
   "source": [
    "class Clock:\n",
    "    def __init__(self, hour = 0, minute = 0):\n",
    "        minute_to_hhmm = divmod (int(minute),60)\n",
    "        hour_to_ddhh = divmod (int(hour),24)\n",
    "        self.hour = hour_to_ddhh[1] + minute_to_hhmm[0]\n",
    "        self.minute = minute_to_hhmm[1]\n",
    "\n",
    "    def __repr__(self):\n",
    "        pass\n",
    "\n",
    "    def __eq__(self, other):\n",
    "        pass\n",
    "\n",
    "    def __add__(self, minutes):\n",
    "        pass\n",
    "\n",
    "    def __sub__(self, minutes):\n",
    "        pass\n",
    "\n",
    "# Program tester\n",
    "while True:\n",
    "    hour = input (\"Hour: \")\n",
    "    minute = input (\"Minute: \")\n",
    "    if hour == \"done\":\n",
    "        break\n",
    "    hhmm = Clock(hour, minute)\n",
    "    print (\"Clock: \", hhmm)\n",
    "\n",
    "print (\"=> End of program\")"
   ]
  },
  {
   "cell_type": "code",
   "execution_count": 24,
   "metadata": {},
   "outputs": [
    {
     "name": "stdout",
     "output_type": "stream",
     "text": [
      "Hour: 0\n",
      "Minute: 0\n",
      "Clock:  0 : 0\n",
      "Hour: 1\n",
      "Minute: 59\n",
      "Clock:  1 : 59\n",
      "Hour: 1\n",
      "Minute: 60\n",
      "Clock:  2 : 0\n",
      "Hour: 1\n",
      "Minute: 120\n",
      "Clock:  3 : 0\n",
      "Hour: 1\n",
      "Minute: 121\n",
      "Clock:  3 : 1\n",
      "Hour: 1\n",
      "Minute: 130\n",
      "Clock:  3 : 10\n",
      "Hour: 24\n",
      "Minute: 1\n",
      "Clock:  0 : 1\n",
      "Hour: 25\n",
      "Minute: 60\n",
      "Clock:  2 : 0\n",
      "Hour: 8\n",
      "Minute: 0\n",
      "Clock:  8 : 0\n",
      "Hour: 11\n",
      "Minute: 9\n",
      "Clock:  11 : 9\n",
      "Hour: 0\n",
      "Minute: 0\n",
      "Clock:  0 : 0\n",
      "Hour: 1\n",
      "Minute: 0\n",
      "Clock:  1 : 0\n",
      "Hour: 25\n",
      "Minute: 0\n",
      "Clock:  1 : 0\n",
      "Hour: 100\n",
      "Minute: 0\n",
      "Clock:  4 : 0\n",
      "Hour: 1\n",
      "Minute: 60\n",
      "Clock:  2 : 0\n",
      "Hour: 0\n",
      "Minute: 160\n",
      "Clock:  2 : 40\n",
      "Hour: 0\n",
      "Minute: 1723\n",
      "Clock:  28 : 43\n",
      "Hour: done\n",
      "Minute: \n",
      "=> End of program\n"
     ]
    }
   ],
   "source": [
    "class Clock:\n",
    "    def __init__(self, hour = 0, minute = 0):\n",
    "        minute_to_hhmm = divmod (int(minute),60)\n",
    "        hour_to_ddhh = divmod (int(hour),24)\n",
    "        self.hour = hour_to_ddhh[1] + minute_to_hhmm[0]\n",
    "        self.minute = minute_to_hhmm[1]\n",
    "\n",
    "    def __repr__(self):\n",
    "        pass\n",
    "\n",
    "    def __eq__(self, other):\n",
    "        pass\n",
    "\n",
    "    def __add__(self, minutes):\n",
    "        pass\n",
    "\n",
    "    def __sub__(self, minutes):\n",
    "        pass\n",
    "\n",
    "# Program tester\n",
    "while True:\n",
    "    hour = input (\"Hour: \")\n",
    "    minute = input (\"Minute: \")\n",
    "    if hour == \"done\":\n",
    "        break\n",
    "    hhmm = Clock(hour, minute)\n",
    "    print (\"Clock: \", hhmm.hour, \":\", hhmm.minute)\n",
    "\n",
    "print (\"=> End of program\")"
   ]
  },
  {
   "cell_type": "code",
   "execution_count": 25,
   "metadata": {},
   "outputs": [
    {
     "name": "stdout",
     "output_type": "stream",
     "text": [
      "Hour: 1\n",
      "Minute: 1\n",
      "Clock:  1 : 1\n",
      "Hour: 0\n",
      "Minute: 1723\n",
      "Clock:  4 : 43\n",
      "Hour: 8\n",
      "Minute: 0\n",
      "Clock:  8 : 0\n",
      "Hour: 11\n",
      "Minute: 9\n",
      "Clock:  11 : 9\n",
      "Hour: 24\n",
      "Minute: 0\n",
      "Clock:  0 : 0\n",
      "Hour: 25\n",
      "Minute: 0\n",
      "Clock:  1 : 0\n",
      "Hour: 100\n",
      "Minute: 0\n",
      "Clock:  4 : 0\n",
      "Hour: 1\n",
      "Minute: 60\n",
      "Clock:  2 : 0\n",
      "Hour: 0\n",
      "Minute: 160\n",
      "Clock:  2 : 40\n",
      "Hour: 0\n",
      "Minute: 1723\n",
      "Clock:  4 : 43\n",
      "Hour: 25\n",
      "Minute: 160\n",
      "Clock:  3 : 40\n",
      "Hour: 201\n",
      "Minute: 3001\n",
      "Clock:  11 : 1\n",
      "Hour: 72\n",
      "Minute: 8640\n",
      "Clock:  0 : 0\n",
      "Hour: -1\n",
      "Minute: 15\n",
      "Clock:  23 : 15\n",
      "Hour: -25\n",
      "Minute: 0\n",
      "Clock:  23 : 0\n",
      "Hour: -91\n",
      "Minute: 0\n",
      "Clock:  5 : 0\n",
      "Hour: 1\n",
      "Minute: -40\n",
      "Clock:  0 : 20\n",
      "Hour: 1\n",
      "Minute: -160\n",
      "Clock:  22 : 20\n",
      "Hour: 1\n",
      "Minute: -4820\n",
      "Clock:  16 : 40\n",
      "Hour: 2\n",
      "Minute: -60\n",
      "Clock:  1 : 0\n",
      "Hour: -25\n",
      "Minute: -160\n",
      "Clock:  20 : 20\n",
      "Hour: -121\n",
      "Minute: -5810\n",
      "Clock:  22 : 10\n",
      "Hour: done\n",
      "Minute: \n",
      "=> End of program\n"
     ]
    }
   ],
   "source": [
    "class Clock:\n",
    "    def __init__(self, hour = 0, minute = 0):\n",
    "        minute_to_hhmm = divmod (int(minute),60)\n",
    "        hh = int(hour) + minute_to_hhmm[0]\n",
    "        hour_to_ddhh = divmod (int(hh),24)\n",
    "        self.hour = hour_to_ddhh[1]\n",
    "        self.minute = minute_to_hhmm[1]\n",
    "\n",
    "    def __repr__(self):\n",
    "        pass\n",
    "\n",
    "    def __eq__(self, other):\n",
    "        pass\n",
    "\n",
    "    def __add__(self, minutes):\n",
    "        pass\n",
    "\n",
    "    def __sub__(self, minutes):\n",
    "        pass\n",
    "\n",
    "# Program tester\n",
    "while True:\n",
    "    hour = input (\"Hour: \")\n",
    "    minute = input (\"Minute: \")\n",
    "    if hour == \"done\":\n",
    "        break\n",
    "    hhmm = Clock(hour, minute)\n",
    "    print (\"Clock: \", hhmm.hour, \":\", hhmm.minute)\n",
    "\n",
    "print (\"=> End of program\")\n"
   ]
  },
  {
   "cell_type": "code",
   "execution_count": 26,
   "metadata": {},
   "outputs": [
    {
     "name": "stdout",
     "output_type": "stream",
     "text": [
      "Hour: 5\n",
      "Minute: 24\n",
      "Clock:  5 : 24\n",
      "Clock:  524\n",
      "Hour: done\n",
      "Minute: \n",
      "=> End of program\n"
     ]
    }
   ],
   "source": [
    "class Clock:\n",
    "    def __init__(self, hour = 0, minute = 0):\n",
    "        minute_to_hhmm = divmod (int(minute),60)\n",
    "        hh = int(hour) + minute_to_hhmm[0]\n",
    "        hour_to_ddhh = divmod (int(hh),24)\n",
    "        self.hour = hour_to_ddhh[1]\n",
    "        self.minute = minute_to_hhmm[1]\n",
    "        self.clock = str(self.hour) + str(self.minute)\n",
    "\n",
    "    def __repr__(self):\n",
    "        pass\n",
    "\n",
    "    def __eq__(self, other):\n",
    "        pass\n",
    "\n",
    "    def __add__(self, minutes):\n",
    "        pass\n",
    "\n",
    "    def __sub__(self, minutes):\n",
    "        pass\n",
    "\n",
    "# Program tester\n",
    "while True:\n",
    "    hour = input (\"Hour: \")\n",
    "    minute = input (\"Minute: \")\n",
    "    if hour == \"done\":\n",
    "        break\n",
    "    hhmm = Clock(hour, minute)\n",
    "    print (\"Clock: \", hhmm.hour, \":\", hhmm.minute)\n",
    "    print (\"Clock: \", hhmm.clock)\n",
    "\n",
    "print (\"=> End of program\")\n"
   ]
  },
  {
   "cell_type": "code",
   "execution_count": 27,
   "metadata": {},
   "outputs": [
    {
     "name": "stdout",
     "output_type": "stream",
     "text": [
      "Hour: 1\n",
      "Minute: 2\n",
      "Clock:  1 : 2\n",
      "Clock:  01:02\n",
      "Hour: 10\n",
      "Minute: 15\n",
      "Clock:  10 : 15\n",
      "Clock:  10:15\n",
      "Hour: -91\n",
      "Minute: 0\n",
      "Clock:  5 : 0\n",
      "Clock:  05:00\n",
      "Hour: 1\n",
      "Minute: -4820\n",
      "Clock:  16 : 40\n",
      "Clock:  16:40\n",
      "Hour: done\n",
      "Minute: \n",
      "=> End of program\n"
     ]
    }
   ],
   "source": [
    "class Clock:\n",
    "    def __init__(self, hour = 0, minute = 0):\n",
    "        minute_to_hhmm = divmod (int(minute),60)\n",
    "        hh = int(hour) + minute_to_hhmm[0]\n",
    "        hour_to_ddhh = divmod (int(hh),24)\n",
    "        self.hour = hour_to_ddhh[1]\n",
    "        self.minute = minute_to_hhmm[1]\n",
    "\n",
    "        # Convert to string in HH:MM format\n",
    "        strhh = str(self.hour)\n",
    "        if self.hour < 10:\n",
    "            strhh = \"0\" + strhh\n",
    "\n",
    "        strmm = str(self.minute)\n",
    "        if self.minute < 10:\n",
    "            strmm = \"0\" + strmm\n",
    "\n",
    "        self.clock = strhh + \":\" + strmm\n",
    "\n",
    "    def __repr__(self):\n",
    "        pass\n",
    "\n",
    "    def __eq__(self, other):\n",
    "        pass\n",
    "\n",
    "    def __add__(self, minutes):\n",
    "        pass\n",
    "\n",
    "    def __sub__(self, minutes):\n",
    "        pass\n",
    "\n",
    "# Program tester\n",
    "while True:\n",
    "    hour = input (\"Hour: \")\n",
    "    minute = input (\"Minute: \")\n",
    "    if hour == \"done\":\n",
    "        break\n",
    "    hhmm = Clock(hour, minute)\n",
    "    print (\"Clock: \", hhmm.hour, \":\", hhmm.minute)\n",
    "    print (\"Clock: \", hhmm.clock)\n",
    "\n",
    "print (\"=> End of program\")"
   ]
  },
  {
   "cell_type": "code",
   "execution_count": 28,
   "metadata": {},
   "outputs": [
    {
     "name": "stdout",
     "output_type": "stream",
     "text": [
      "Hour: 1\n",
      "Minute: 2\n"
     ]
    },
    {
     "ename": "TypeError",
     "evalue": "__str__ returned non-string (type NoneType)",
     "output_type": "error",
     "traceback": [
      "\u001b[1;31m---------------------------------------------------------------------------\u001b[0m",
      "\u001b[1;31mTypeError\u001b[0m                                 Traceback (most recent call last)",
      "\u001b[1;32m<ipython-input-28-e84b56f3b36a>\u001b[0m in \u001b[0;36m<module>\u001b[1;34m\u001b[0m\n\u001b[0;32m     33\u001b[0m     \u001b[1;32mif\u001b[0m \u001b[0mhour\u001b[0m \u001b[1;33m==\u001b[0m \u001b[1;34m\"done\"\u001b[0m\u001b[1;33m:\u001b[0m\u001b[1;33m\u001b[0m\u001b[1;33m\u001b[0m\u001b[0m\n\u001b[0;32m     34\u001b[0m         \u001b[1;32mbreak\u001b[0m\u001b[1;33m\u001b[0m\u001b[1;33m\u001b[0m\u001b[0m\n\u001b[1;32m---> 35\u001b[1;33m     \u001b[0mprint\u001b[0m \u001b[1;33m(\u001b[0m\u001b[1;34m\"Clock: \"\u001b[0m\u001b[1;33m,\u001b[0m \u001b[0mstr\u001b[0m\u001b[1;33m(\u001b[0m\u001b[0mClock\u001b[0m\u001b[1;33m(\u001b[0m\u001b[0mhour\u001b[0m\u001b[1;33m,\u001b[0m \u001b[0mminute\u001b[0m\u001b[1;33m)\u001b[0m\u001b[1;33m)\u001b[0m\u001b[1;33m)\u001b[0m\u001b[1;33m\u001b[0m\u001b[1;33m\u001b[0m\u001b[0m\n\u001b[0m\u001b[0;32m     36\u001b[0m \u001b[1;33m\u001b[0m\u001b[0m\n\u001b[0;32m     37\u001b[0m \u001b[0mprint\u001b[0m \u001b[1;33m(\u001b[0m\u001b[1;34m\"=> End of program\"\u001b[0m\u001b[1;33m)\u001b[0m\u001b[1;33m\u001b[0m\u001b[1;33m\u001b[0m\u001b[0m\n",
      "\u001b[1;31mTypeError\u001b[0m: __str__ returned non-string (type NoneType)"
     ]
    }
   ],
   "source": [
    "class Clock:\n",
    "    def __init__(self, hour = 0, minute = 0):\n",
    "        hh, self.minute = divmod (int(minute), 60)\n",
    "        dd, self.hour = divmod (hh + int(hour), 24)\n",
    "\n",
    "# Convert to string in HH:MM format\n",
    "#        strhh = str(self.hour)\n",
    "#        if self.hour < 10:\n",
    "#            strhh = \"0\" + strhh\n",
    "\n",
    "#        strmm = str(self.minute)\n",
    "#        if self.minute < 10:\n",
    "#            strmm = \"0\" + strmm\n",
    "\n",
    "#        self.clock = strhh + \":\" + strmm\n",
    "\n",
    "    def __repr__(self):\n",
    "        pass\n",
    "\n",
    "    def __eq__(self, other):\n",
    "        pass\n",
    "\n",
    "    def __add__(self, minutes):\n",
    "        pass\n",
    "\n",
    "    def __sub__(self, minutes):\n",
    "        pass\n",
    "\n",
    "# Program tester\n",
    "while True:\n",
    "    hour = input (\"Hour: \")\n",
    "    minute = input (\"Minute: \")\n",
    "    if hour == \"done\":\n",
    "        break\n",
    "    print (\"Clock: \", str(Clock(hour, minute)))\n",
    "\n",
    "print (\"=> End of program\")\n"
   ]
  },
  {
   "cell_type": "code",
   "execution_count": 29,
   "metadata": {},
   "outputs": [
    {
     "name": "stdout",
     "output_type": "stream",
     "text": [
      "2 <class 'int'>\n"
     ]
    }
   ],
   "source": [
    "print (2, type(2))"
   ]
  },
  {
   "cell_type": "code",
   "execution_count": 34,
   "metadata": {},
   "outputs": [
    {
     "name": "stdout",
     "output_type": "stream",
     "text": [
      "002\n"
     ]
    }
   ],
   "source": [
    "print (f'{2:03d}')"
   ]
  },
  {
   "cell_type": "code",
   "execution_count": 35,
   "metadata": {},
   "outputs": [
    {
     "name": "stdout",
     "output_type": "stream",
     "text": [
      "Hour: 1\n",
      "Minute: 2\n",
      "Clock:  01:02\n",
      "Hour: done\n",
      "Minute: \n",
      "=> End of program\n"
     ]
    }
   ],
   "source": [
    "class Clock:\n",
    "    def __init__(self, hour = 0, minute = 0):\n",
    "        hh, self.minute = divmod (int(minute), 60)\n",
    "        dd, self.hour = divmod (hh + int(hour), 24)\n",
    "\n",
    "    def __repr__(self):\n",
    "# Python __repr__() function returns the object representation\n",
    "        return f'{self.hour:02d}:{self.minute:02d}'\n",
    "\n",
    "    def __eq__(self, other):\n",
    "        return self == other\n",
    "\n",
    "    def __add__(self, minutes):\n",
    "        return Clock(self.hour, self.minute + int(minutes))\n",
    "\n",
    "    def __sub__(self, minutes):\n",
    "        return Clock(self.hour, self.minute - int(minutes))\n",
    "\n",
    "# Program tester\n",
    "while True:\n",
    "    hour = input (\"Hour: \")\n",
    "    minute = input (\"Minute: \")\n",
    "    if hour == \"done\":\n",
    "        break\n",
    "    print (\"Clock: \", str(Clock(hour, minute)))\n",
    "\n",
    "print (\"=> End of program\")\n"
   ]
  },
  {
   "cell_type": "code",
   "execution_count": 36,
   "metadata": {},
   "outputs": [
    {
     "name": "stdout",
     "output_type": "stream",
     "text": [
      "Hour: 1\n",
      "Minute: 4\n",
      "Clock:  01:04\n",
      "Hour: done\n",
      "Minute: \n",
      "=> End of program\n"
     ]
    }
   ],
   "source": [
    "class Clock:\n",
    "    def __init__(self, hour = 0, minute = 0):\n",
    "        hh, self.minute = divmod (int(minute), 60)\n",
    "        dd, self.hour = divmod (hh + int(hour), 24)\n",
    "\n",
    "    def __repr__(self):\n",
    "# Python __repr__() function returns the object representation\n",
    "        return f'{self.hour:02d}:{self.minute:02d}'\n",
    "\n",
    "    def __eq__(self, other):\n",
    "        return self == other\n",
    "\n",
    "    def __add__(self, minutes):\n",
    "        return Clock(self.hour, self.minute + int(minutes))\n",
    "\n",
    "    def __sub__(self, minutes):\n",
    "        return Clock(self.hour, self.minute - int(minutes))\n",
    "\n",
    "# Program tester\n",
    "while True:\n",
    "    hour = input (\"Hour: \")\n",
    "    minute = input (\"Minute: \")\n",
    "    if hour == \"done\":\n",
    "        break\n",
    "    print (\"Clock: \", Clock(hour, minute))\n",
    "\n",
    "print (\"=> End of program\")\n"
   ]
  },
  {
   "cell_type": "code",
   "execution_count": null,
   "metadata": {},
   "outputs": [],
   "source": []
  }
 ],
 "metadata": {
  "kernelspec": {
   "display_name": "Python 3",
   "language": "python",
   "name": "python3"
  },
  "language_info": {
   "codemirror_mode": {
    "name": "ipython",
    "version": 3
   },
   "file_extension": ".py",
   "mimetype": "text/x-python",
   "name": "python",
   "nbconvert_exporter": "python",
   "pygments_lexer": "ipython3",
   "version": "3.7.4"
  }
 },
 "nbformat": 4,
 "nbformat_minor": 2
}
