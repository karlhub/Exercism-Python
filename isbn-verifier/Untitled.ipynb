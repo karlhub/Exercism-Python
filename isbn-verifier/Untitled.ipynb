{
 "cells": [
  {
   "cell_type": "code",
   "execution_count": 1,
   "metadata": {},
   "outputs": [
    {
     "name": "stdout",
     "output_type": "stream",
     "text": [
      "ISBN: 1\n",
      "\n",
      "True\n",
      "ISBN: 12\n",
      "1\n",
      "True\n",
      "ISBN: 1x\n",
      "1\n",
      "True\n",
      "ISBN: 1\n",
      "\n",
      "True\n",
      "ISBN: done\n",
      "=> End of program\n"
     ]
    }
   ],
   "source": [
    "def is_valid(isbn):\n",
    "    isbn_str_left = isbn[:len(isbn)-1]\n",
    "    print (isbn_str_left)\n",
    "#     isbn.replace(\"-\",\"\")\n",
    "    return True\n",
    "\n",
    "# Program tester\n",
    "while True:\n",
    "    isbn = input(\"ISBN: \")\n",
    "    if isbn == \"done\":\n",
    "         break\n",
    "    print (is_valid(isbn))\n",
    "\n",
    "print(\"=> End of program\")\n"
   ]
  },
  {
   "cell_type": "code",
   "execution_count": 2,
   "metadata": {},
   "outputs": [
    {
     "name": "stdout",
     "output_type": "stream",
     "text": [
      "ISBN: 1\n",
      "False\n",
      "ISBN: 12\n",
      "False\n",
      "ISBN: 123\n",
      "False\n",
      "ISBN: 1234\n",
      "False\n",
      "ISBN: 123456789\n",
      "False\n",
      "ISBN: 1234567890\n",
      "True\n",
      "ISBN: 1-2------3-4-5-6-7-8-9-0-\n",
      "True\n",
      "ISBN: 12345678a0\n",
      "True\n",
      "ISBN: done\n",
      "=> End of program\n"
     ]
    }
   ],
   "source": [
    "def is_valid(isbn):\n",
    "    isbn_str = isbn.replace(\"-\",\"\")\n",
    "    if len(isbn_str) != 10:\n",
    "        return False\n",
    "    if isbn_str[:8].isnumeric() and (isbn_str[9].isnumeric() or isbn_str[9] == \"X\"):\n",
    "        return True\n",
    "    else:\n",
    "        return False\n",
    "\n",
    "# Program tester\n",
    "while True:\n",
    "    isbn = input(\"ISBN: \")\n",
    "    if isbn == \"done\":\n",
    "         break\n",
    "    print (is_valid(isbn))\n",
    "\n",
    "print(\"=> End of program\")\n"
   ]
  },
  {
   "cell_type": "code",
   "execution_count": 3,
   "metadata": {},
   "outputs": [
    {
     "name": "stdout",
     "output_type": "stream",
     "text": [
      "ISBN: 12345678a0\n",
      "False\n",
      "ISBN: 1234567890\n",
      "True\n",
      "ISBN: 123456789x\n",
      "False\n",
      "ISBN: 123456789X\n",
      "True\n",
      "ISBN: done\n",
      "=> End of program\n"
     ]
    }
   ],
   "source": [
    "def is_valid(isbn):\n",
    "    isbn_str = isbn.replace(\"-\",\"\")\n",
    "    if len(isbn_str) != 10:\n",
    "        return False\n",
    "    if isbn_str[:9].isnumeric() and (isbn_str[9].isnumeric() or isbn_str[9] == \"X\"):\n",
    "        return True\n",
    "    else:\n",
    "        return False\n",
    "\n",
    "# Program tester\n",
    "while True:\n",
    "    isbn = input(\"ISBN: \")\n",
    "    if isbn == \"done\":\n",
    "         break\n",
    "    print (is_valid(isbn))\n",
    "\n",
    "print(\"=> End of program\")\n"
   ]
  },
  {
   "cell_type": "code",
   "execution_count": 4,
   "metadata": {},
   "outputs": [
    {
     "ename": "SyntaxError",
     "evalue": "invalid syntax (<ipython-input-4-45c217a978ec>, line 2)",
     "output_type": "error",
     "traceback": [
      "\u001b[1;36m  File \u001b[1;32m\"<ipython-input-4-45c217a978ec>\"\u001b[1;36m, line \u001b[1;32m2\u001b[0m\n\u001b[1;33m    if isbn[len(isbn)-1].isnumeric() = False or isbn[len(isbn)-1] != \"X\":\u001b[0m\n\u001b[1;37m                                     ^\u001b[0m\n\u001b[1;31mSyntaxError\u001b[0m\u001b[1;31m:\u001b[0m invalid syntax\n"
     ]
    }
   ],
   "source": [
    "def is_valid(isbn):\n",
    "    if isbn[len(isbn)-1].isnumeric() = False or isbn[len(isbn)-1] != \"X\":\n",
    "        return False\n",
    "    isbn_str = isbn.replace(\"-\",\"\")\n",
    "    if len(isbn_str) != 10:\n",
    "        return False\n",
    "    if isbn_str[:9].isnumeric():\n",
    "        check = 0\n",
    "        prod = 10\n",
    "        for c in isbn_str[:9]:\n",
    "            check += int(c) * prod\n",
    "            prod -= 1\n",
    "        if isbn[len(isbn)-1] == \"X\":\n",
    "            check += 10\n",
    "        else:\n",
    "            check += int(isbn[len(isbn)-1])\n",
    "        return (check % 11 == 0)\n",
    "    else:\n",
    "        return False\n",
    "\n",
    "# Program tester\n",
    "while True:\n",
    "    isbn = input(\"ISBN: \")\n",
    "    if isbn == \"done\":\n",
    "         break\n",
    "    print (is_valid(isbn))\n",
    "\n",
    "print(\"=> End of program\")\n"
   ]
  },
  {
   "cell_type": "code",
   "execution_count": 5,
   "metadata": {},
   "outputs": [
    {
     "name": "stdout",
     "output_type": "stream",
     "text": [
      "ISBN: 1\n",
      "False\n",
      "ISBN: 12\n",
      "False\n",
      "ISBN: x\n",
      "False\n",
      "ISBN: 12X\n",
      "False\n",
      "ISBN: ---------------\n",
      "False\n",
      "ISBN: 1-1-1-1-1-1-1-1-1-1\n",
      "False\n",
      "ISBN: 1\n",
      "False\n",
      "ISBN: 123456789X\n",
      "False\n",
      "ISBN: 3-598-21508-8\n",
      "False\n",
      "ISBN: done\n",
      "=> End of program\n"
     ]
    }
   ],
   "source": [
    "def is_valid(isbn):\n",
    "    if isbn[len(isbn)-1].isnumeric() == False or isbn[len(isbn)-1] != \"X\":\n",
    "        return False\n",
    "    isbn_str = isbn.replace(\"-\",\"\")\n",
    "    if len(isbn_str) != 10:\n",
    "        return False\n",
    "    if isbn_str[:9].isnumeric():\n",
    "        check = 0\n",
    "        prod = 10\n",
    "        for c in isbn_str[:9]:\n",
    "            check += int(c) * prod\n",
    "            prod -= 1\n",
    "        if isbn[len(isbn)-1] == \"X\":\n",
    "            check += 10\n",
    "        else:\n",
    "            check += int(isbn[len(isbn)-1])\n",
    "        return (check % 11 == 0)\n",
    "    else:\n",
    "        return False\n",
    "\n",
    "# Program tester\n",
    "while True:\n",
    "    isbn = input(\"ISBN: \")\n",
    "    if isbn == \"done\":\n",
    "         break\n",
    "    print (is_valid(isbn))\n",
    "\n",
    "print(\"=> End of program\")\n"
   ]
  },
  {
   "cell_type": "code",
   "execution_count": 6,
   "metadata": {},
   "outputs": [
    {
     "name": "stdout",
     "output_type": "stream",
     "text": [
      "ISBN: 3-598-21508-8\n",
      "False\n",
      "ISBN: done\n",
      "=> End of program\n"
     ]
    }
   ],
   "source": [
    "def is_valid(isbn):\n",
    "    if isbn[len(isbn)-1].isnumeric() == False or isbn[len(isbn)-1] != \"X\":\n",
    "        return False\n",
    "    isbn_str = isbn.replace(\"-\",\"\")\n",
    "    print (\"1: \",isbn_str)\n",
    "    if len(isbn_str) != 10:\n",
    "        return False\n",
    "    if isbn_str[:9].isnumeric():\n",
    "        check = 0\n",
    "        prod = 10\n",
    "        for c in isbn_str[:9]:\n",
    "            print (\"2: \",check,prod)\n",
    "            check += int(c) * prod\n",
    "            prod -= 1\n",
    "        if isbn[len(isbn)-1] == \"X\":\n",
    "            check += 10\n",
    "            print (\"3: \",check)\n",
    "        else:\n",
    "            check += int(isbn[len(isbn)-1])\n",
    "            print (\"4: \",check)\n",
    "        return (check % 11 == 0)\n",
    "    else:\n",
    "        return False\n",
    "\n",
    "# Program tester\n",
    "while True:\n",
    "    isbn = input(\"ISBN: \")\n",
    "    if isbn == \"done\":\n",
    "         break\n",
    "    print (is_valid(isbn))\n",
    "\n",
    "print(\"=> End of program\")\n"
   ]
  },
  {
   "cell_type": "code",
   "execution_count": 7,
   "metadata": {},
   "outputs": [
    {
     "name": "stdout",
     "output_type": "stream",
     "text": [
      "ISBN: 3-598-21508-8\n",
      "1:  3598215088\n",
      "2:  0 10\n",
      "2:  30 9\n",
      "2:  75 8\n",
      "2:  147 7\n",
      "2:  203 6\n",
      "2:  215 5\n",
      "2:  220 4\n",
      "2:  240 3\n",
      "2:  240 2\n",
      "4:  264\n",
      "True\n",
      "ISBN: 2434324332\n",
      "1:  2434324332\n",
      "2:  0 10\n",
      "2:  20 9\n",
      "2:  56 8\n",
      "2:  80 7\n",
      "2:  108 6\n",
      "2:  126 5\n",
      "2:  136 4\n",
      "2:  152 3\n",
      "2:  161 2\n",
      "4:  169\n",
      "False\n",
      "ISBN: 2432432\n",
      "1:  2432432\n",
      "False\n",
      "ISBN: fsdsf\n",
      "False\n",
      "ISBN: dsfsd\n",
      "False\n",
      "ISBN: done\n",
      "=> End of program\n"
     ]
    }
   ],
   "source": [
    "def is_valid(isbn):\n",
    "    if isbn[len(isbn)-1].isnumeric() == False and isbn[len(isbn)-1] != \"X\":\n",
    "        return False\n",
    "    isbn_str = isbn.replace(\"-\",\"\")\n",
    "    print (\"1: \",isbn_str)\n",
    "    if len(isbn_str) != 10:\n",
    "        return False\n",
    "    if isbn_str[:9].isnumeric():\n",
    "        check = 0\n",
    "        prod = 10\n",
    "        for c in isbn_str[:9]:\n",
    "            print (\"2: \",check,prod)\n",
    "            check += int(c) * prod\n",
    "            prod -= 1\n",
    "        if isbn[len(isbn)-1] == \"X\":\n",
    "            check += 10\n",
    "            print (\"3: \",check)\n",
    "        else:\n",
    "            check += int(isbn[len(isbn)-1])\n",
    "            print (\"4: \",check)\n",
    "        return (check % 11 == 0)\n",
    "    else:\n",
    "        return False\n",
    "\n",
    "# Program tester\n",
    "while True:\n",
    "    isbn = input(\"ISBN: \")\n",
    "    if isbn == \"done\":\n",
    "         break\n",
    "    print (is_valid(isbn))\n",
    "\n",
    "print(\"=> End of program\")\n"
   ]
  },
  {
   "cell_type": "code",
   "execution_count": 8,
   "metadata": {},
   "outputs": [
    {
     "name": "stdout",
     "output_type": "stream",
     "text": [
      "ISBN: \n"
     ]
    },
    {
     "ename": "IndexError",
     "evalue": "string index out of range",
     "output_type": "error",
     "traceback": [
      "\u001b[1;31m---------------------------------------------------------------------------\u001b[0m",
      "\u001b[1;31mIndexError\u001b[0m                                Traceback (most recent call last)",
      "\u001b[1;32m<ipython-input-8-692d1baa09a1>\u001b[0m in \u001b[0;36m<module>\u001b[1;34m\u001b[0m\n\u001b[0;32m     28\u001b[0m     \u001b[1;32mif\u001b[0m \u001b[0misbn\u001b[0m \u001b[1;33m==\u001b[0m \u001b[1;34m\"done\"\u001b[0m\u001b[1;33m:\u001b[0m\u001b[1;33m\u001b[0m\u001b[1;33m\u001b[0m\u001b[0m\n\u001b[0;32m     29\u001b[0m          \u001b[1;32mbreak\u001b[0m\u001b[1;33m\u001b[0m\u001b[1;33m\u001b[0m\u001b[0m\n\u001b[1;32m---> 30\u001b[1;33m     \u001b[0mprint\u001b[0m \u001b[1;33m(\u001b[0m\u001b[0mis_valid\u001b[0m\u001b[1;33m(\u001b[0m\u001b[0misbn\u001b[0m\u001b[1;33m)\u001b[0m\u001b[1;33m)\u001b[0m\u001b[1;33m\u001b[0m\u001b[1;33m\u001b[0m\u001b[0m\n\u001b[0m\u001b[0;32m     31\u001b[0m \u001b[1;33m\u001b[0m\u001b[0m\n\u001b[0;32m     32\u001b[0m \u001b[0mprint\u001b[0m\u001b[1;33m(\u001b[0m\u001b[1;34m\"=> End of program\"\u001b[0m\u001b[1;33m)\u001b[0m\u001b[1;33m\u001b[0m\u001b[1;33m\u001b[0m\u001b[0m\n",
      "\u001b[1;32m<ipython-input-8-692d1baa09a1>\u001b[0m in \u001b[0;36mis_valid\u001b[1;34m(isbn)\u001b[0m\n\u001b[0;32m      1\u001b[0m \u001b[1;32mdef\u001b[0m \u001b[0mis_valid\u001b[0m\u001b[1;33m(\u001b[0m\u001b[0misbn\u001b[0m\u001b[1;33m)\u001b[0m\u001b[1;33m:\u001b[0m\u001b[1;33m\u001b[0m\u001b[1;33m\u001b[0m\u001b[0m\n\u001b[1;32m----> 2\u001b[1;33m     \u001b[1;32mif\u001b[0m \u001b[0misbn\u001b[0m\u001b[1;33m[\u001b[0m\u001b[0mlen\u001b[0m\u001b[1;33m(\u001b[0m\u001b[0misbn\u001b[0m\u001b[1;33m)\u001b[0m\u001b[1;33m-\u001b[0m\u001b[1;36m1\u001b[0m\u001b[1;33m]\u001b[0m\u001b[1;33m.\u001b[0m\u001b[0misnumeric\u001b[0m\u001b[1;33m(\u001b[0m\u001b[1;33m)\u001b[0m \u001b[1;33m==\u001b[0m \u001b[1;32mFalse\u001b[0m \u001b[1;32mand\u001b[0m \u001b[0misbn\u001b[0m\u001b[1;33m[\u001b[0m\u001b[0mlen\u001b[0m\u001b[1;33m(\u001b[0m\u001b[0misbn\u001b[0m\u001b[1;33m)\u001b[0m\u001b[1;33m-\u001b[0m\u001b[1;36m1\u001b[0m\u001b[1;33m]\u001b[0m \u001b[1;33m!=\u001b[0m \u001b[1;34m\"X\"\u001b[0m\u001b[1;33m:\u001b[0m\u001b[1;33m\u001b[0m\u001b[1;33m\u001b[0m\u001b[0m\n\u001b[0m\u001b[0;32m      3\u001b[0m         \u001b[1;32mreturn\u001b[0m \u001b[1;32mFalse\u001b[0m\u001b[1;33m\u001b[0m\u001b[1;33m\u001b[0m\u001b[0m\n\u001b[0;32m      4\u001b[0m     \u001b[0misbn_str\u001b[0m \u001b[1;33m=\u001b[0m \u001b[0misbn\u001b[0m\u001b[1;33m.\u001b[0m\u001b[0mreplace\u001b[0m\u001b[1;33m(\u001b[0m\u001b[1;34m\"-\"\u001b[0m\u001b[1;33m,\u001b[0m\u001b[1;34m\"\"\u001b[0m\u001b[1;33m)\u001b[0m\u001b[1;33m\u001b[0m\u001b[1;33m\u001b[0m\u001b[0m\n\u001b[0;32m      5\u001b[0m     \u001b[0mprint\u001b[0m \u001b[1;33m(\u001b[0m\u001b[1;34m\"1: \"\u001b[0m\u001b[1;33m,\u001b[0m\u001b[0misbn_str\u001b[0m\u001b[1;33m)\u001b[0m\u001b[1;33m\u001b[0m\u001b[1;33m\u001b[0m\u001b[0m\n",
      "\u001b[1;31mIndexError\u001b[0m: string index out of range"
     ]
    }
   ],
   "source": [
    "def is_valid(isbn):\n",
    "    if isbn[len(isbn)-1].isnumeric() == False and isbn[len(isbn)-1] != \"X\":\n",
    "        return False\n",
    "    isbn_str = isbn.replace(\"-\",\"\")\n",
    "    print (\"1: \",isbn_str)\n",
    "    if len(isbn_str) != 10:\n",
    "        return False\n",
    "    if isbn_str[:9].isnumeric():\n",
    "        check = 0\n",
    "        prod = 10\n",
    "        for c in isbn_str[:9]:\n",
    "            print (\"2: \",check,prod)\n",
    "            check += int(c) * prod\n",
    "            prod -= 1\n",
    "        if isbn[len(isbn)-1] == \"X\":\n",
    "            check += 10\n",
    "            print (\"3: \",check)\n",
    "        else:\n",
    "            check += int(isbn[len(isbn)-1])\n",
    "            print (\"4: \",check)\n",
    "        return (check % 11 == 0)\n",
    "    else:\n",
    "        return False\n",
    "\n",
    "# Program tester\n",
    "while True:\n",
    "    isbn = input(\"ISBN: \")\n",
    "    if isbn == \"done\":\n",
    "         break\n",
    "    print (is_valid(isbn))\n",
    "\n",
    "print(\"=> End of program\")\n"
   ]
  },
  {
   "cell_type": "code",
   "execution_count": null,
   "metadata": {},
   "outputs": [],
   "source": []
  }
 ],
 "metadata": {
  "kernelspec": {
   "display_name": "Python 3",
   "language": "python",
   "name": "python3"
  },
  "language_info": {
   "codemirror_mode": {
    "name": "ipython",
    "version": 3
   },
   "file_extension": ".py",
   "mimetype": "text/x-python",
   "name": "python",
   "nbconvert_exporter": "python",
   "pygments_lexer": "ipython3",
   "version": "3.7.4"
  }
 },
 "nbformat": 4,
 "nbformat_minor": 2
}
